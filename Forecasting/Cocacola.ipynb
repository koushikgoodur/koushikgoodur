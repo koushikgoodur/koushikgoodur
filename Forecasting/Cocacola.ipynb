{
  "nbformat": 4,
  "nbformat_minor": 0,
  "metadata": {
    "colab": {
      "name": "Cocacola.ipynb",
      "provenance": []
    },
    "kernelspec": {
      "display_name": "Python 3",
      "language": "python",
      "name": "python3"
    },
    "language_info": {
      "codemirror_mode": {
        "name": "ipython",
        "version": 3
      },
      "file_extension": ".py",
      "mimetype": "text/x-python",
      "name": "python",
      "nbconvert_exporter": "python",
      "pygments_lexer": "ipython3",
      "version": "3.7.4"
    }
  },
  "cells": [
    {
      "cell_type": "code",
      "metadata": {
        "id": "pA2Im0i0q0Nj",
        "colab": {
          "base_uri": "https://localhost:8080/"
        },
        "outputId": "22942b5b-bf80-4475-8c43-2ff28c919b5a"
      },
      "source": [
        "# Import libraries\n",
        "from pandas import read_csv\n",
        "from matplotlib import pyplot\n",
        "from numpy import sqrt\n",
        "import warnings\n",
        "import itertools\n",
        "import pandas as pd\n",
        "import numpy as np\n",
        "import matplotlib.pyplot as plt\n",
        "import statsmodels.api as sm"
      ],
      "execution_count": 3,
      "outputs": [
        {
          "output_type": "stream",
          "name": "stderr",
          "text": [
            "/usr/local/lib/python3.7/dist-packages/statsmodels/tools/_testing.py:19: FutureWarning: pandas.util.testing is deprecated. Use the functions in the public API at pandas.testing instead.\n",
            "  import pandas.util.testing as tm\n"
          ]
        }
      ]
    },
    {
      "cell_type": "code",
      "metadata": {
        "id": "pRjFc7hxq0Nw"
      },
      "source": [
        "series = read_csv('CocaCola_Sales_Rawdata.csv', header=0, index_col=0, parse_dates=True)"
      ],
      "execution_count": 4,
      "outputs": []
    },
    {
      "cell_type": "code",
      "metadata": {
        "colab": {
          "base_uri": "https://localhost:8080/",
          "height": 1000
        },
        "id": "40ts1Q16q0Ny",
        "outputId": "8bffd6e2-bf96-4b88-d77d-6c6c80a84d5e"
      },
      "source": [
        "series"
      ],
      "execution_count": 5,
      "outputs": [
        {
          "output_type": "execute_result",
          "data": {
            "text/html": [
              "<div>\n",
              "<style scoped>\n",
              "    .dataframe tbody tr th:only-of-type {\n",
              "        vertical-align: middle;\n",
              "    }\n",
              "\n",
              "    .dataframe tbody tr th {\n",
              "        vertical-align: top;\n",
              "    }\n",
              "\n",
              "    .dataframe thead th {\n",
              "        text-align: right;\n",
              "    }\n",
              "</style>\n",
              "<table border=\"1\" class=\"dataframe\">\n",
              "  <thead>\n",
              "    <tr style=\"text-align: right;\">\n",
              "      <th></th>\n",
              "      <th>Sales</th>\n",
              "    </tr>\n",
              "    <tr>\n",
              "      <th>Quarter</th>\n",
              "      <th></th>\n",
              "    </tr>\n",
              "  </thead>\n",
              "  <tbody>\n",
              "    <tr>\n",
              "      <th>Q1_86</th>\n",
              "      <td>1734.827000</td>\n",
              "    </tr>\n",
              "    <tr>\n",
              "      <th>Q2_86</th>\n",
              "      <td>2244.960999</td>\n",
              "    </tr>\n",
              "    <tr>\n",
              "      <th>Q3_86</th>\n",
              "      <td>2533.804993</td>\n",
              "    </tr>\n",
              "    <tr>\n",
              "      <th>Q4_86</th>\n",
              "      <td>2154.962997</td>\n",
              "    </tr>\n",
              "    <tr>\n",
              "      <th>Q1_87</th>\n",
              "      <td>1547.818996</td>\n",
              "    </tr>\n",
              "    <tr>\n",
              "      <th>Q2_87</th>\n",
              "      <td>2104.411995</td>\n",
              "    </tr>\n",
              "    <tr>\n",
              "      <th>Q3_87</th>\n",
              "      <td>2014.362999</td>\n",
              "    </tr>\n",
              "    <tr>\n",
              "      <th>Q4_87</th>\n",
              "      <td>1991.746998</td>\n",
              "    </tr>\n",
              "    <tr>\n",
              "      <th>Q1_88</th>\n",
              "      <td>1869.049999</td>\n",
              "    </tr>\n",
              "    <tr>\n",
              "      <th>Q2_88</th>\n",
              "      <td>2313.631996</td>\n",
              "    </tr>\n",
              "    <tr>\n",
              "      <th>Q3_88</th>\n",
              "      <td>2128.320000</td>\n",
              "    </tr>\n",
              "    <tr>\n",
              "      <th>Q4_88</th>\n",
              "      <td>2026.828999</td>\n",
              "    </tr>\n",
              "    <tr>\n",
              "      <th>Q1_89</th>\n",
              "      <td>1910.603996</td>\n",
              "    </tr>\n",
              "    <tr>\n",
              "      <th>Q2_89</th>\n",
              "      <td>2331.164993</td>\n",
              "    </tr>\n",
              "    <tr>\n",
              "      <th>Q3_89</th>\n",
              "      <td>2206.549995</td>\n",
              "    </tr>\n",
              "    <tr>\n",
              "      <th>Q4_89</th>\n",
              "      <td>2173.967995</td>\n",
              "    </tr>\n",
              "    <tr>\n",
              "      <th>Q1_90</th>\n",
              "      <td>2148.278000</td>\n",
              "    </tr>\n",
              "    <tr>\n",
              "      <th>Q2_90</th>\n",
              "      <td>2739.307999</td>\n",
              "    </tr>\n",
              "    <tr>\n",
              "      <th>Q3_90</th>\n",
              "      <td>2792.753998</td>\n",
              "    </tr>\n",
              "    <tr>\n",
              "      <th>Q4_90</th>\n",
              "      <td>2556.009995</td>\n",
              "    </tr>\n",
              "    <tr>\n",
              "      <th>Q1_91</th>\n",
              "      <td>2480.973999</td>\n",
              "    </tr>\n",
              "    <tr>\n",
              "      <th>Q2_91</th>\n",
              "      <td>3039.522995</td>\n",
              "    </tr>\n",
              "    <tr>\n",
              "      <th>Q3_91</th>\n",
              "      <td>3172.115997</td>\n",
              "    </tr>\n",
              "    <tr>\n",
              "      <th>Q4_91</th>\n",
              "      <td>2879.000999</td>\n",
              "    </tr>\n",
              "    <tr>\n",
              "      <th>Q1_92</th>\n",
              "      <td>2772.000000</td>\n",
              "    </tr>\n",
              "    <tr>\n",
              "      <th>Q2_92</th>\n",
              "      <td>3550.000000</td>\n",
              "    </tr>\n",
              "    <tr>\n",
              "      <th>Q3_92</th>\n",
              "      <td>3508.000000</td>\n",
              "    </tr>\n",
              "    <tr>\n",
              "      <th>Q4_92</th>\n",
              "      <td>3243.859993</td>\n",
              "    </tr>\n",
              "    <tr>\n",
              "      <th>Q1_93</th>\n",
              "      <td>3056.000000</td>\n",
              "    </tr>\n",
              "    <tr>\n",
              "      <th>Q2_93</th>\n",
              "      <td>3899.000000</td>\n",
              "    </tr>\n",
              "    <tr>\n",
              "      <th>Q3_93</th>\n",
              "      <td>3629.000000</td>\n",
              "    </tr>\n",
              "    <tr>\n",
              "      <th>Q4_93</th>\n",
              "      <td>3373.000000</td>\n",
              "    </tr>\n",
              "    <tr>\n",
              "      <th>Q1_94</th>\n",
              "      <td>3352.000000</td>\n",
              "    </tr>\n",
              "    <tr>\n",
              "      <th>Q2_94</th>\n",
              "      <td>4342.000000</td>\n",
              "    </tr>\n",
              "    <tr>\n",
              "      <th>Q3_94</th>\n",
              "      <td>4461.000000</td>\n",
              "    </tr>\n",
              "    <tr>\n",
              "      <th>Q4_94</th>\n",
              "      <td>4017.000000</td>\n",
              "    </tr>\n",
              "    <tr>\n",
              "      <th>Q1_95</th>\n",
              "      <td>3854.000000</td>\n",
              "    </tr>\n",
              "    <tr>\n",
              "      <th>Q2_95</th>\n",
              "      <td>4936.000000</td>\n",
              "    </tr>\n",
              "    <tr>\n",
              "      <th>Q3_95</th>\n",
              "      <td>4895.000000</td>\n",
              "    </tr>\n",
              "    <tr>\n",
              "      <th>Q4_95</th>\n",
              "      <td>4333.000000</td>\n",
              "    </tr>\n",
              "    <tr>\n",
              "      <th>Q1_96</th>\n",
              "      <td>4194.000000</td>\n",
              "    </tr>\n",
              "    <tr>\n",
              "      <th>Q2_96</th>\n",
              "      <td>5253.000000</td>\n",
              "    </tr>\n",
              "  </tbody>\n",
              "</table>\n",
              "</div>"
            ],
            "text/plain": [
              "               Sales\n",
              "Quarter             \n",
              "Q1_86    1734.827000\n",
              "Q2_86    2244.960999\n",
              "Q3_86    2533.804993\n",
              "Q4_86    2154.962997\n",
              "Q1_87    1547.818996\n",
              "Q2_87    2104.411995\n",
              "Q3_87    2014.362999\n",
              "Q4_87    1991.746998\n",
              "Q1_88    1869.049999\n",
              "Q2_88    2313.631996\n",
              "Q3_88    2128.320000\n",
              "Q4_88    2026.828999\n",
              "Q1_89    1910.603996\n",
              "Q2_89    2331.164993\n",
              "Q3_89    2206.549995\n",
              "Q4_89    2173.967995\n",
              "Q1_90    2148.278000\n",
              "Q2_90    2739.307999\n",
              "Q3_90    2792.753998\n",
              "Q4_90    2556.009995\n",
              "Q1_91    2480.973999\n",
              "Q2_91    3039.522995\n",
              "Q3_91    3172.115997\n",
              "Q4_91    2879.000999\n",
              "Q1_92    2772.000000\n",
              "Q2_92    3550.000000\n",
              "Q3_92    3508.000000\n",
              "Q4_92    3243.859993\n",
              "Q1_93    3056.000000\n",
              "Q2_93    3899.000000\n",
              "Q3_93    3629.000000\n",
              "Q4_93    3373.000000\n",
              "Q1_94    3352.000000\n",
              "Q2_94    4342.000000\n",
              "Q3_94    4461.000000\n",
              "Q4_94    4017.000000\n",
              "Q1_95    3854.000000\n",
              "Q2_95    4936.000000\n",
              "Q3_95    4895.000000\n",
              "Q4_95    4333.000000\n",
              "Q1_96    4194.000000\n",
              "Q2_96    5253.000000"
            ]
          },
          "metadata": {},
          "execution_count": 5
        }
      ]
    },
    {
      "cell_type": "code",
      "metadata": {
        "colab": {
          "base_uri": "https://localhost:8080/",
          "height": 280
        },
        "id": "PHSUh2d7q0Ny",
        "outputId": "0edee822-7680-4894-c499-92b99835e4d4"
      },
      "source": [
        "# line plot of time series\n",
        "from pandas import read_csv\n",
        "from matplotlib import pyplot\n",
        "series.plot()\n",
        "pyplot.show()"
      ],
      "execution_count": 6,
      "outputs": [
        {
          "output_type": "display_data",
          "data": {
            "image/png": "[encoded data removed]",
            "text/plain": [
              "<Figure size 432x288 with 1 Axes>"
            ]
          },
          "metadata": {
            "needs_background": "light"
          }
        }
      ]
    },
    {
      "cell_type": "code",
      "metadata": {
        "colab": {
          "base_uri": "https://localhost:8080/",
          "height": 314
        },
        "id": "zdcCQdCNq0Ny",
        "outputId": "949140e0-219f-4f31-84ca-b4cc05b8165e"
      },
      "source": [
        "series.hist()"
      ],
      "execution_count": 7,
      "outputs": [
        {
          "output_type": "execute_result",
          "data": {
            "text/plain": [
              "array([[<matplotlib.axes._subplots.AxesSubplot object at 0x7fab184159d0>]],\n",
              "      dtype=object)"
            ]
          },
          "metadata": {},
          "execution_count": 7
        },
        {
          "output_type": "display_data",
          "data": {
            "image/png": "[encoded data removed]",
            "text/plain": [
              "<Figure size 432x288 with 1 Axes>"
            ]
          },
          "metadata": {
            "needs_background": "light"
          }
        }
      ]
    },
    {
      "cell_type": "code",
      "metadata": {
        "colab": {
          "base_uri": "https://localhost:8080/",
          "height": 282
        },
        "id": "y2orvvNMq0Nz",
        "outputId": "047d36ca-f516-4577-a5be-7b7f3d6bd222"
      },
      "source": [
        "series.plot(kind='kde')"
      ],
      "execution_count": 8,
      "outputs": [
        {
          "output_type": "execute_result",
          "data": {
            "text/plain": [
              "<matplotlib.axes._subplots.AxesSubplot at 0x7fab17f049d0>"
            ]
          },
          "metadata": {},
          "execution_count": 8
        },
        {
          "output_type": "display_data",
          "data": {
            "image/png": "[encoded data removed]",
            "text/plain": [
              "<Figure size 432x288 with 1 Axes>"
            ]
          },
          "metadata": {
            "needs_background": "light"
          }
        }
      ]
    },
    {
      "cell_type": "code",
      "metadata": {
        "colab": {
          "base_uri": "https://localhost:8080/"
        },
        "id": "sofhsBmqq0N0",
        "outputId": "a1966c3c-9a92-4c96-a8e9-51a911fc3fc4"
      },
      "source": [
        "# separate out a validation dataset\n",
        "split_point = len(series) - 10\n",
        "dataset, validation = series[0:split_point], series[split_point:]\n",
        "print('Dataset %d, Validation %d' % (len(dataset), len(validation)))\n",
        "dataset.to_csv('dataset.csv', header=False)\n",
        "validation.to_csv('validation.csv', header=False)"
      ],
      "execution_count": 9,
      "outputs": [
        {
          "output_type": "stream",
          "name": "stdout",
          "text": [
            "Dataset 32, Validation 10\n"
          ]
        }
      ]
    },
    {
      "cell_type": "markdown",
      "metadata": {
        "id": "FLSlPjffq0N1"
      },
      "source": [
        "#### Persistence/ Base model"
      ]
    },
    {
      "cell_type": "code",
      "metadata": {
        "id": "A8dCp9Req0N2"
      },
      "source": [
        "# evaluate a persistence model\n",
        "from pandas import read_csv\n",
        "from sklearn.metrics import mean_squared_error\n",
        "from math import sqrt\n",
        "# load data\n",
        "train = read_csv('dataset.csv', header=None, index_col=0, parse_dates=True, squeeze=True)\n",
        "# prepare data\n",
        "X = train.values\n",
        "X = X.astype('float32')\n",
        "train_size = int(len(X) * 0.50)\n",
        "train, test = X[0:train_size], X[train_size:]\n"
      ],
      "execution_count": 10,
      "outputs": []
    },
    {
      "cell_type": "code",
      "metadata": {
        "colab": {
          "base_uri": "https://localhost:8080/"
        },
        "id": "tcJLznPJq0N2",
        "outputId": "d07deaf9-4a5e-497c-c335-c210908b6f39"
      },
      "source": [
        "# walk-forward validation\n",
        "history = [x for x in train]\n",
        "predictions = list()\n",
        "for i in range(len(test)):\n",
        "    yhat = history[-1]\n",
        "    predictions.append(yhat)\n",
        "# observation\n",
        "    obs = test[i]\n",
        "    history.append(obs)\n",
        "    print('>Predicted=%.3f, Expected=%.3f' % (yhat, obs))\n",
        "# report performance\n",
        "rmse = sqrt(mean_squared_error(test, predictions))\n",
        "print('RMSE: %.3f' % rmse)"
      ],
      "execution_count": 11,
      "outputs": [
        {
          "output_type": "stream",
          "name": "stdout",
          "text": [
            ">Predicted=2173.968, Expected=2148.278\n",
            ">Predicted=2148.278, Expected=2739.308\n",
            ">Predicted=2739.308, Expected=2792.754\n",
            ">Predicted=2792.754, Expected=2556.010\n",
            ">Predicted=2556.010, Expected=2480.974\n",
            ">Predicted=2480.974, Expected=3039.523\n",
            ">Predicted=3039.523, Expected=3172.116\n",
            ">Predicted=3172.116, Expected=2879.001\n",
            ">Predicted=2879.001, Expected=2772.000\n",
            ">Predicted=2772.000, Expected=3550.000\n",
            ">Predicted=3550.000, Expected=3508.000\n",
            ">Predicted=3508.000, Expected=3243.860\n",
            ">Predicted=3243.860, Expected=3056.000\n",
            ">Predicted=3056.000, Expected=3899.000\n",
            ">Predicted=3899.000, Expected=3629.000\n",
            ">Predicted=3629.000, Expected=3373.000\n",
            "RMSE: 387.510\n"
          ]
        }
      ]
    },
    {
      "cell_type": "markdown",
      "metadata": {
        "id": "Umm4LSEsq0N3"
      },
      "source": [
        "#### ARIMA Hyperparameters"
      ]
    },
    {
      "cell_type": "code",
      "metadata": {
        "id": "NrgYzQ9Dq0N3"
      },
      "source": [
        "# grid search ARIMA parameters for a time series\n",
        "\n",
        "import warnings\n",
        "from pandas import read_csv\n",
        "from statsmodels.tsa.arima_model import ARIMA\n",
        "from sklearn.metrics import mean_squared_error\n",
        "from math import sqrt\n",
        "\n",
        "\n",
        "# evaluate an ARIMA model for a given order (p,d,q) and return RMSE\n",
        "def evaluate_arima_model(X, arima_order):\n",
        "# prepare training dataset\n",
        "    X = X.astype('float32')\n",
        "    train_size = int(len(X) * 0.50)\n",
        "    train, test = X[0:train_size], X[train_size:]\n",
        "    history = [x for x in train]\n",
        "# make predictions\n",
        "    predictions = list()\n",
        "    for t in range(len(test)):\n",
        "        model = ARIMA(history, order=arima_order)\n",
        "# model_fit = model.fit(disp=0)\n",
        "        model_fit = model.fit(disp=0)\n",
        "        yhat = model_fit.forecast()[0]\n",
        "        predictions.append(yhat)\n",
        "        history.append(test[t])\n",
        "# calculate out of sample error\n",
        "    rmse = sqrt(mean_squared_error(test, predictions))\n",
        "    return rmse"
      ],
      "execution_count": 12,
      "outputs": []
    },
    {
      "cell_type": "markdown",
      "metadata": {
        "id": "bK-ZAQi9q0N3"
      },
      "source": [
        "#### Grid search for p,d,q values"
      ]
    },
    {
      "cell_type": "code",
      "metadata": {
        "id": "mJytXCinq0N4"
      },
      "source": [
        "# evaluate combinations of p, d and q values for an ARIMA model\n",
        "def evaluate_models(dataset, p_values, d_values, q_values):\n",
        "    dataset = dataset.astype('float32')\n",
        "    best_score, best_cfg = float('inf'), None\n",
        "    for p in p_values:\n",
        "        for d in d_values:\n",
        "            for q in q_values:\n",
        "                order = (p,d,q)\n",
        "                try:\n",
        "                    rmse = evaluate_arima_model(train, order)\n",
        "                    if rmse < best_score:\n",
        "                        best_score, best_cfg = rmse, order\n",
        "                    print('ARIMA%s RMSE=%.3f' % (order,rmse))\n",
        "                except:\n",
        "                    continue\n",
        "    print('Best ARIMA%s RMSE=%.3f' % (best_cfg, best_score))"
      ],
      "execution_count": 13,
      "outputs": []
    },
    {
      "cell_type": "code",
      "metadata": {
        "colab": {
          "base_uri": "https://localhost:8080/"
        },
        "id": "fThjJZVdq0N4",
        "outputId": "99dac9c7-69c6-4dfc-83f5-09a7fcafad5c"
      },
      "source": [
        "# load dataset\n",
        "train = read_csv('dataset.csv', header=None, index_col=0, parse_dates=True, squeeze=True)\n",
        "# evaluate parameters\n",
        "p_values = range(0, 5)\n",
        "d_values = range(0, 5)\n",
        "q_values = range(0, 5)\n",
        "warnings.filterwarnings(\"ignore\")\n",
        "evaluate_models(train.values, p_values, d_values, q_values)"
      ],
      "execution_count": 14,
      "outputs": [
        {
          "output_type": "stream",
          "name": "stdout",
          "text": [
            "ARIMA(0, 0, 0) RMSE=840.936\n",
            "ARIMA(0, 0, 1) RMSE=617.891\n",
            "ARIMA(0, 0, 2) RMSE=450.670\n",
            "ARIMA(0, 1, 0) RMSE=389.741\n",
            "ARIMA(0, 1, 1) RMSE=396.142\n",
            "ARIMA(0, 1, 2) RMSE=354.964\n",
            "ARIMA(0, 1, 4) RMSE=272.869\n",
            "ARIMA(0, 2, 0) RMSE=593.232\n",
            "ARIMA(0, 2, 1) RMSE=414.867\n",
            "ARIMA(1, 0, 0) RMSE=470.343\n",
            "ARIMA(1, 1, 0) RMSE=387.222\n",
            "ARIMA(1, 2, 0) RMSE=574.838\n",
            "ARIMA(2, 0, 0) RMSE=493.077\n",
            "ARIMA(2, 1, 0) RMSE=300.157\n",
            "ARIMA(2, 1, 1) RMSE=327.956\n",
            "ARIMA(2, 2, 0) RMSE=485.191\n",
            "ARIMA(3, 0, 0) RMSE=431.275\n",
            "ARIMA(3, 1, 0) RMSE=245.267\n",
            "ARIMA(3, 2, 0) RMSE=156.740\n",
            "ARIMA(4, 0, 0) RMSE=387.570\n",
            "ARIMA(4, 1, 0) RMSE=163.620\n",
            "ARIMA(4, 2, 0) RMSE=161.625\n",
            "Best ARIMA(3, 2, 0) RMSE=156.740\n"
          ]
        }
      ]
    },
    {
      "cell_type": "markdown",
      "metadata": {
        "id": "vbFnA7I3q0N5"
      },
      "source": [
        "#### Build Model based on the optimized values"
      ]
    },
    {
      "cell_type": "code",
      "metadata": {
        "id": "DOU5AzShq0N5"
      },
      "source": [
        "# save finalized model to file\n",
        "from pandas import read_csv\n",
        "from statsmodels.tsa.arima_model import ARIMA\n",
        "import numpy"
      ],
      "execution_count": 15,
      "outputs": []
    },
    {
      "cell_type": "code",
      "metadata": {
        "id": "0uyCCxzlq0N5"
      },
      "source": [
        "# load data\n",
        "train = read_csv('dataset.csv', header=0, index_col=0, parse_dates=True)\n",
        "# prepare data\n",
        "X = dataset.values\n",
        "X = X.astype('float32')"
      ],
      "execution_count": 17,
      "outputs": []
    },
    {
      "cell_type": "code",
      "metadata": {
        "colab": {
          "base_uri": "https://localhost:8080/",
          "height": 513
        },
        "id": "UOIyR-r9q0N6",
        "outputId": "103c3c03-5649-4c82-f541-3a4e34ba5cb2"
      },
      "source": [
        "# fit model\n",
        "model = ARIMA(X, order=(1,0,1))\n",
        "model_fit = model.fit()\n",
        "forecast=model_fit.forecast(steps=10)[0]\n",
        "model_fit.plot_predict(1, 42)"
      ],
      "execution_count": 25,
      "outputs": [
        {
          "output_type": "execute_result",
          "data": {
            "image/png": "[encoded data removed]",
            "text/plain": [
              "<Figure size 432x288 with 1 Axes>"
            ]
          },
          "metadata": {},
          "execution_count": 25
        },
        {
          "output_type": "display_data",
          "data": {
            "image/png": "[encoded data removed]",
            "text/plain": [
              "<Figure size 432x288 with 1 Axes>"
            ]
          },
          "metadata": {
            "needs_background": "light"
          }
        }
      ]
    },
    {
      "cell_type": "code",
      "metadata": {
        "colab": {
          "base_uri": "https://localhost:8080/"
        },
        "id": "b-zFw7tEq0N6",
        "outputId": "53dc5fa0-7925-418e-b817-e6209fcc100a"
      },
      "source": [
        "#Error on the test data\n",
        "val=pd.read_csv('validation.csv',header=None)\n",
        "rmse = sqrt(mean_squared_error(val[1], forecast))\n",
        "rmse"
      ],
      "execution_count": 26,
      "outputs": [
        {
          "output_type": "execute_result",
          "data": {
            "text/plain": [
              "1176.033636508294"
            ]
          },
          "metadata": {},
          "execution_count": 26
        }
      ]
    },
    {
      "cell_type": "markdown",
      "metadata": {
        "id": "RMMPPVWUq0N6"
      },
      "source": [
        "#### Combine train and test data and build final model"
      ]
    },
    {
      "cell_type": "code",
      "metadata": {
        "id": "nWOjX5XMq0N6"
      },
      "source": [
        "# fit model\n",
        "data = read_csv('CocaCola_Sales_Rawdata.csv', header=0, index_col=0, parse_dates=True)\n",
        "# prepare data\n",
        "X = train.values\n",
        "X = X.astype('float32')"
      ],
      "execution_count": 27,
      "outputs": []
    },
    {
      "cell_type": "code",
      "metadata": {
        "id": "1KGLRzCxq0N7"
      },
      "source": [
        "model = ARIMA(X, order=(1,0,1))\n",
        "model_fit = model.fit()"
      ],
      "execution_count": 39,
      "outputs": []
    },
    {
      "cell_type": "code",
      "metadata": {
        "colab": {
          "base_uri": "https://localhost:8080/",
          "height": 513
        },
        "id": "uLLCuVRuq0N7",
        "outputId": "f0f53da5-de7e-4892-cdbc-93d1309bf742"
      },
      "source": [
        "forecast=model_fit.forecast(steps=10)[0]\n",
        "model_fit.plot_predict(1,42)"
      ],
      "execution_count": 40,
      "outputs": [
        {
          "output_type": "execute_result",
          "data": {
            "image/png": "[encoded data removed]",
            "text/plain": [
              "<Figure size 432x288 with 1 Axes>"
            ]
          },
          "metadata": {},
          "execution_count": 40
        },
        {
          "output_type": "display_data",
          "data": {
            "image/png": "[encoded data removed]",
            "text/plain": [
              "<Figure size 432x288 with 1 Axes>"
            ]
          },
          "metadata": {
            "needs_background": "light"
          }
        }
      ]
    },
    {
      "cell_type": "code",
      "metadata": {
        "colab": {
          "base_uri": "https://localhost:8080/"
        },
        "id": "pUuCITbJq0N8",
        "outputId": "e76d4733-0a97-48c5-ba84-a389f852ab15"
      },
      "source": [
        "forecast"
      ],
      "execution_count": 41,
      "outputs": [
        {
          "output_type": "execute_result",
          "data": {
            "text/plain": [
              "array([3421.77399798, 3394.7145427 , 3368.75530494, 3343.85155066,\n",
              "       3319.9603647 , 3297.04057675, 3275.0526905 , 3253.95881551,\n",
              "       3233.72260193, 3214.3091779 ])"
            ]
          },
          "metadata": {},
          "execution_count": 41
        }
      ]
    },
    {
      "cell_type": "code",
      "metadata": {
        "id": "iGA1Py0OT6Ec"
      },
      "source": [
        ""
      ],
      "execution_count": null,
      "outputs": []
    }
  ]
}